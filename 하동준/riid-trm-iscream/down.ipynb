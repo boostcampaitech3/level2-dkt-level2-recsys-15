{
 "cells": [
  {
   "cell_type": "code",
   "execution_count": 1,
   "metadata": {},
   "outputs": [
    {
     "name": "stdout",
     "output_type": "stream",
     "text": [
      "Warning: Your Kaggle API key is readable by other users on this system! To fix this, you can run 'chmod 600 /opt/ml/.kaggle/kaggle.json'\n",
      "Downloading riiid-test-answer-prediction.zip to /opt/ml/dataset/RIIID\n",
      "100%|██████████████████████████████████████▉| 1.29G/1.29G [00:07<00:00, 294MB/s]\n",
      "100%|███████████████████████████████████████| 1.29G/1.29G [00:07<00:00, 192MB/s]\n"
     ]
    }
   ],
   "source": [
    "!kaggle competitions download -c riiid-test-answer-prediction"
   ]
  },
  {
   "cell_type": "code",
   "execution_count": 2,
   "metadata": {},
   "outputs": [],
   "source": [
    "import os\n",
    "zip_file_dir = '/opt/ml/dataset/RIIID/riiid-test-answer-prediction.zip'\n",
    "unzip_dir = '/opt/ml/dataset/RIIID'\n",
    "\n",
    "import zipfile\n",
    "with zipfile.ZipFile(zip_file_dir, 'r') as zip_ref:\n",
    "    zip_ref.extractall(unzip_dir)"
   ]
  },
  {
   "cell_type": "code",
   "execution_count": null,
   "metadata": {},
   "outputs": [],
   "source": []
  }
 ],
 "metadata": {
  "interpreter": {
   "hash": "d4d1e4263499bec80672ea0156c357c1ee493ec2b1c70f0acce89fc37c4a6abe"
  },
  "kernelspec": {
   "display_name": "Python 3.8.5 ('base')",
   "language": "python",
   "name": "python3"
  },
  "language_info": {
   "codemirror_mode": {
    "name": "ipython",
    "version": 3
   },
   "file_extension": ".py",
   "mimetype": "text/x-python",
   "name": "python",
   "nbconvert_exporter": "python",
   "pygments_lexer": "ipython3",
   "version": "3.8.5"
  },
  "orig_nbformat": 4
 },
 "nbformat": 4,
 "nbformat_minor": 2
}
