{
 "cells": [
  {
   "cell_type": "code",
   "execution_count": 4,
   "metadata": {},
   "outputs": [],
   "source": [
    "import pandas as pd\n",
    "import numpy as np\n",
    "from tqdm import tqdm\n",
    "import os\n",
    "import json"
   ]
  },
  {
   "cell_type": "markdown",
   "metadata": {},
   "source": [
    "> # 데이터 가져오기"
   ]
  },
  {
   "cell_type": "markdown",
   "metadata": {},
   "source": [
    "이번 대회에서 제공하는 정보는 멜론 서비스에서 수집된 플레이리스트의 일부분입니다. 대회 설명에서 언급한것과 같이, 곡에 대한 Mel-spectrogram 데이터는 용량이 방대합니다. 베이스라인 코드에서와 같이, 해당 데이터를 사용하지 않고도 문제를 해결하는 방법론이 있으니, 컴퓨터의 용량과 컴퓨팅 파워가 충분할 때 사용하세요.\n",
    "\n",
    "### song_meta.json: 곡 메타데이터\n",
    "총 707,989개의 곡에 대한 메타데이터가 수록되어 있습니다.  \n",
    "개발 데이터와 평가 데이터에 수록된 모든 곡에 대한 메타데이터가 포함되어 있습니다.  \n",
    "필드 설명  \n",
    "_id: 곡 ID  \n",
    "album_id: 앨범 ID  \n",
    "artist_id_basket: 아티스트 ID 리스트  \n",
    "artist_name_basket: 아티스트 리스트  \n",
    "song_name: 곡 제목  \n",
    "song_gn_gnr_basket: 곡 장르 리스트  \n",
    "song_gn_dtl_gnr_basket: 곡 세부 장르 리스트  \n",
    "issue_date: 발매일  \n",
    "메타데이터의 모든 정보는 저작권자의 비공개 여부 전환, 곡 삭제, 메타데이터 수정 등으로 유효하지 않거나 변동될 수 있습니다.  \n",
    "genre_gn_all.json:  \n",
    "곡 메타데이터에 수록된 장르에 대한 정보입니다. 위 song_meta.json 에서 song_gn_gnr_basket 과 song_gn_dtl_gnr_basket 에 들어가는 정보들에 대한 메타데이터입니다.  \n",
    "\n",
    "### train.json:  \n",
    "모델 학습용 파일로, 115,071개 플레이리스트의 원본 데이터가 수록되어 있습니다.  \n",
    "필드 설명  \n",
    "id: 플레이리스트 ID  \n",
    "plylst_title: 플레이리스트 제목  \n",
    "tags: 태그 리스트  \n",
    "songs: 곡 리스트  \n",
    "like_cnt: 좋아요 개수  \n",
    "updt_date: 수정 날짜  \n",
    "### val.json:\n",
    "\n",
    "공개 리더보드용 문제 파일로, 23,015개 플레이리스트에 대한 문제가 수록되어 있습니다. 모든 데이터가 수록되어있는 train 파일과는 다르게, 곡과 태그의 일부가 수록되어 있습니다.  \n",
    "필드 설명  \n",
    "id: 플레이리스트 ID  \n",
    "plylst_title: 플레이리스트 제목  \n",
    "tags: 태그 리스트  \n",
    "songs: 곡 리스트  \n",
    "like_cnt: 좋아요 개수  \n",
    "updt_date: 수정 날짜  \n",
    "### test.json:\n",
    "\n",
    "파이널 리더보드용 문제 파일로, 10,740개 플레이리스트에 대한 문제가 수록되어 있습니다. 모든 데이터가 수록되어있는 train 파일과는 다르게, 곡과 태그의 일부가 수록되어 있습니다.  \n",
    "필드 설명  \n",
    "id: 플레이리스트 ID  \n",
    "plylst_title: 플레이리스트 제목  \n",
    "tags: 태그 리스트  \n",
    "songs: 곡 리스트  \n",
    "like_cnt: 좋아요 개수  \n",
    "updt_date: 수정 날짜  \n"
   ]
  },
  {
   "cell_type": "markdown",
   "metadata": {},
   "source": [
    "> ### 장르"
   ]
  },
  {
   "cell_type": "code",
   "execution_count": 18,
   "metadata": {},
   "outputs": [],
   "source": [
    "data_root = '/opt/ml/finalproject/kakaomusic'\n",
    "genre_address = os.path.join(data_root,'genre_gn_all.json')\n",
    "meta_address = os.path.join(data_root,'song_meta.json')\n",
    "train_address = os.path.join(data_root,'train.json')\n",
    "\n"
   ]
  },
  {
   "cell_type": "code",
   "execution_count": 10,
   "metadata": {},
   "outputs": [
    {
     "name": "stdout",
     "output_type": "stream",
     "text": [
      "dict_values(['발라드', '세부장르전체', \"'80\", \"'90\", \"'00\", \"'10-\", '댄스', '세부장르전체', \"'80\", \"'90\", \"'00\", \"'10-\", '랩/힙합', '세부장르전체', '랩 스타일', '보컬 스타일', '언더그라운드 힙합', '시대별', 'R&B/Soul', '세부장르전체', '어반', 'R&B', '인디음악', '세부장르전체', '포크', '록', '일렉', '힙합', '발라드', \"'90\", \"'00\", \"'10-\", '록/메탈', '세부장르전체', \"'70\", \"'80\", \"'90\", \"'00\", \"'10-\", '성인가요', '세부장르전체', '신세대트로트', '전설의트로트', '뽕짝트로트', '트로트메들리', \"트로트'60-'70\", \"트로트'80-'90\", \"트로트'00-\", \"성인가요'80-'90\", \"성인가요'00-\", '포크/블루스', '세부장르전체', \"'60-'70\", \"'80-'90\", \"'00\", \"'10-\", 'POP', '세부장르전체', '얼터너티브팝', '올디스', '월드팝', \"'60-'70\", \"'80-'90\", \"'00\", \"'10-\", '록/메탈', '세부장르전체', '모던록', '얼터너티브록', '프로그레시브/아트록', '하드록', '헤비메탈', '뉴메탈/하드코어', '포스트록', \"'60\", \"'70\", \"'80\", \"'90\", \"'00\", \"'10-\", '일렉트로니카', '세부장르전체', '일렉트로니카', '하우스', '클럽뮤직', '일렉트로닉팝', \"'80\", \"'90\", \"'00\", \"'10-\", '랩/힙합', '세부장르전체', '팝랩', '얼터너티브힙합', '갱스터/하드코어랩', 'East&West', \"'80\", \"'90\", \"'00\", \"'10-\", 'R&B/Soul', '세부장르전체', '컨템포러리 R&B', '소울', '어반', \"'60-'70\", \"'80-'90\", \"'00\", \"'10-\", '포크/블루스/컨트리', '세부장르전체', '포크', '블루스', '컨트리', \"'60-'70\", \"'80-'90\", \"'00-\", 'OST', '세부장르전체', '국내영화', '국외영화', '국내드라마', '국외드라마', '애니메이션/게임', '국내뮤지컬', '국외뮤지컬', '애니메이션/웹툰', '게임', '클래식', '세부장르전체', '관현악', '교향곡', '실내악', '협주곡', '독주곡', '오페라', '크로스오버', '현대음악', '성악/합창곡', '발레/무용', '지휘/연주자', '컴필레이션', '교향/관현악', '오페라/성악', '재즈', '세부장르전체', '보컬재즈', '애시드/퓨전/팝', 'Bop', '보사노바', 'J-Jazz', '라틴재즈', '빅밴드/스윙', '악기별', '컴필레이션', '뉴에이지', '세부장르전체', '이지리스닝', 'J-Newage', '기능성음악', '기타', '피아노', '컴필레이션', 'J-POP', '세부장르전체', 'POP', '록', '일렉트로니카', '랩/힙합', 'R&B/Soul', '시부야케이', '뉴에이지', '재즈', '힙합/R&B', \"'80-'90\", \"'00-'10\", '월드뮤직', '세부장르전체', '샹송/프렌치팝', '칸초네/이탈리안팝', '중국음악', '켈틱/아이리시', '브라질', '탱고/플라멩코', '라틴', '레게', '파두', 'CCM', '세부장르전체', '국내CCM', '국외CCM', '워십', '찬송가', '성가', '연주곡', '어린이', '성경', 'NEW', '어린이/태교', '유아동요', '창작동요', '영어동요', '영어동요', '영어동요', '영어동화', '만화', '자장가', '태교동화', '태교', '릴렉싱&힐링', '명작동화', '교과서동요', '전래동요', '창작동화', '어린이클래식', '종교음악', '가톨릭', '불교', '국악', '세부장르전체', '크로스오버', '국악가요', '민요', '판소리/단가', '풍물/사물놀이', '아이돌', '세부장르전체', '남자 아이돌', '여자 아이돌', '랩/힙합', '발라드', '댄스', '일렉트로니카', '세부장르전체', '댄스 스타일', '팝 스타일', '시대별', 'EDM', '세부장르전체', '하우스', '클럽', 'DJ', '뮤직테라피', '세부장르전체', 'ASMR/자연', '힐링/명상/요가', '집중력', '숙면유도', '반려동물', '뮤지컬', '세부장르전체', '국내뮤지컬', '국외뮤지컬', '크리스마스'])\n"
     ]
    }
   ],
   "source": [
    "with open(genre_address) as json_file:\n",
    "    genre_dic = json.load(json_file)\n",
    "print(genre_dic.values())"
   ]
  },
  {
   "cell_type": "code",
   "execution_count": 16,
   "metadata": {},
   "outputs": [
    {
     "data": {
      "text/plain": [
       "254"
      ]
     },
     "execution_count": 16,
     "metadata": {},
     "output_type": "execute_result"
    }
   ],
   "source": [
    "len(genre_dic)"
   ]
  },
  {
   "cell_type": "markdown",
   "metadata": {},
   "source": [
    "> ## 노래 메타데이터"
   ]
  },
  {
   "cell_type": "code",
   "execution_count": null,
   "metadata": {},
   "outputs": [],
   "source": [
    "with open(meta_address) as json_file:\n",
    "    meta_dict = json.load(json_file)"
   ]
  },
  {
   "cell_type": "code",
   "execution_count": 14,
   "metadata": {},
   "outputs": [
    {
     "name": "stdout",
     "output_type": "stream",
     "text": [
      "{'song_gn_dtl_gnr_basket': ['GN0901'], 'issue_date': '20140512', 'album_name': '불후의 명곡 - 7080 추억의 얄개시대 팝송베스트', 'album_id': 2255639, 'artist_id_basket': [2727], 'song_name': 'Feelings', 'song_gn_gnr_basket': ['GN0900'], 'artist_name_basket': ['Various Artists'], 'id': 0}\n",
      "{'song_gn_dtl_gnr_basket': ['GN1802', 'GN1801'], 'issue_date': '20110824', 'album_id': 2008470, 'artist_id_basket': [560160], 'song_name': '그남자 그여자', 'song_gn_gnr_basket': ['GN1800'], 'album_name': '그남자 그여자', 'artist_name_basket': ['Jude Law'], 'id': 4}\n"
     ]
    }
   ],
   "source": [
    "print(meta_dict[0])\n",
    "print(meta_dict[4])\n",
    "\n"
   ]
  },
  {
   "cell_type": "code",
   "execution_count": 15,
   "metadata": {},
   "outputs": [
    {
     "name": "stdout",
     "output_type": "stream",
     "text": [
      "세부장르전체\n",
      "POP\n",
      "이지리스닝\n",
      "세부장르전체\n",
      "뉴에이지\n"
     ]
    }
   ],
   "source": [
    "print(genre_dic['GN0901'])\n",
    "print(genre_dic['GN0900'])\n",
    "print(genre_dic['GN1802'])\n",
    "print(genre_dic['GN1801'])\n",
    "print(genre_dic['GN1800'])\n",
    "\n",
    "\n"
   ]
  },
  {
   "cell_type": "code",
   "execution_count": 17,
   "metadata": {},
   "outputs": [
    {
     "data": {
      "text/plain": [
       "707989"
      ]
     },
     "execution_count": 17,
     "metadata": {},
     "output_type": "execute_result"
    }
   ],
   "source": [
    "len(meta_dict)"
   ]
  },
  {
   "cell_type": "markdown",
   "metadata": {},
   "source": [
    "> # Train data"
   ]
  },
  {
   "cell_type": "code",
   "execution_count": 19,
   "metadata": {},
   "outputs": [],
   "source": [
    "with open(train_address) as json_file:\n",
    "    train_dict = json.load(json_file)"
   ]
  },
  {
   "cell_type": "code",
   "execution_count": 21,
   "metadata": {},
   "outputs": [
    {
     "data": {
      "text/plain": [
       "{'tags': ['잔잔한', '밤', '새벽'],\n",
       " 'id': 6143,\n",
       " 'plylst_title': '새벽 찬바람이 침대위를 감쌀때..(국외)',\n",
       " 'songs': [355345,\n",
       "  40937,\n",
       "  172532,\n",
       "  369114,\n",
       "  486265,\n",
       "  35945,\n",
       "  385005,\n",
       "  453038,\n",
       "  341760,\n",
       "  239059,\n",
       "  397008,\n",
       "  304937,\n",
       "  326424,\n",
       "  361284,\n",
       "  516797,\n",
       "  400781,\n",
       "  347388,\n",
       "  295050,\n",
       "  170021,\n",
       "  288141,\n",
       "  255838,\n",
       "  406349,\n",
       "  425398,\n",
       "  693110,\n",
       "  183446,\n",
       "  615796,\n",
       "  174644,\n",
       "  317212,\n",
       "  317069,\n",
       "  271210,\n",
       "  173065,\n",
       "  102950,\n",
       "  636579,\n",
       "  406012,\n",
       "  223134,\n",
       "  134760,\n",
       "  572928,\n",
       "  419015,\n",
       "  306385,\n",
       "  171884,\n",
       "  240201,\n",
       "  16320,\n",
       "  52283,\n",
       "  273837,\n",
       "  565181],\n",
       " 'like_cnt': 15,\n",
       " 'updt_date': '2016-05-10 00:29:03.000'}"
      ]
     },
     "execution_count": 21,
     "metadata": {},
     "output_type": "execute_result"
    }
   ],
   "source": [
    "train_dict[25]"
   ]
  },
  {
   "cell_type": "code",
   "execution_count": 22,
   "metadata": {},
   "outputs": [
    {
     "data": {
      "text/plain": [
       "115071"
      ]
     },
     "execution_count": 22,
     "metadata": {},
     "output_type": "execute_result"
    }
   ],
   "source": [
    "len(train_dict)"
   ]
  },
  {
   "cell_type": "markdown",
   "metadata": {},
   "source": [
    "> # train 속한 노래들에 태그들을 입히기\n",
    "> ### TODO : set 형식으로 바꾸기"
   ]
  },
  {
   "cell_type": "markdown",
   "metadata": {},
   "source": []
  },
  {
   "cell_type": "code",
   "execution_count": 24,
   "metadata": {},
   "outputs": [],
   "source": [
    "sampled_train = train_dict[:100]\n"
   ]
  },
  {
   "cell_type": "code",
   "execution_count": 28,
   "metadata": {},
   "outputs": [
    {
     "name": "stdout",
     "output_type": "stream",
     "text": [
      "{'1': ['락', '사랑']}\n"
     ]
    }
   ],
   "source": [
    "train_song2tags = {}\n",
    "train_song2tags['1'] = ['락']\n",
    "if('1' in train_song2tags):\n",
    "    temp = train_song2tags['1']\n",
    "    temp.append('사랑')\n",
    "    train_song2tags['1'] = temp\n",
    "print(train_song2tags)\n"
   ]
  },
  {
   "cell_type": "code",
   "execution_count": 30,
   "metadata": {},
   "outputs": [
    {
     "name": "stdout",
     "output_type": "stream",
     "text": [
      "['love']\n"
     ]
    }
   ],
   "source": [
    "a = []\n",
    "a.append('love')\n",
    "print(a)"
   ]
  },
  {
   "cell_type": "code",
   "execution_count": 51,
   "metadata": {},
   "outputs": [],
   "source": [
    "train_song2tags = {}\n",
    "for one_playll in train_dict:\n",
    "    # print(one_playll)\n",
    "    songs = one_playll['songs']\n",
    "    tags = one_playll['tags']\n",
    "    plylst_title = one_playll['plylst_title']\n",
    "    for song in songs:\n",
    "        # 처음 보는 노래이면\n",
    "        if(song not in train_song2tags):\n",
    "            empty_ll = []\n",
    "            empty_ll.append(plylst_title)\n",
    "            for tag in tags:\n",
    "                empty_ll.append(tag)\n",
    "            train_song2tags[song] = empty_ll\n",
    "        # 이미 노래가 저장되어있을때는 태그를 추가하쟈\n",
    "        elif(song in train_song2tags):\n",
    "            from_ll = train_song2tags[song]\n",
    "            from_ll\n",
    "            from_ll.append(plylst_title)\n",
    "            for tag in tags:\n",
    "                from_ll.append(tag)\n",
    "            train_song2tags[song] = from_ll\n",
    "    # print(train_song2tags)\n",
    "    # break\n",
    "# temp = train_song2tags[:2]\n",
    "# print(temp)\n",
    "\n",
    "\n",
    "\n",
    "\n",
    "\n",
    "\n"
   ]
  },
  {
   "cell_type": "code",
   "execution_count": 52,
   "metadata": {},
   "outputs": [],
   "source": [
    "song_id_ll = []\n",
    "tag_ll = []\n",
    "\n",
    "for song in train_song2tags.items():\n",
    "    song_id = song[0]\n",
    "    tag = song[1]\n",
    "    song_id_ll.append(song_id)\n",
    "    tag_ll.append(tag)"
   ]
  },
  {
   "cell_type": "code",
   "execution_count": 53,
   "metadata": {},
   "outputs": [],
   "source": [
    "song_id_ll\n",
    "tag_ll\n",
    "\n",
    "song2tag_df = pd.DataFrame(\n",
    "    data={\n",
    "        'songID' : song_id_ll,\n",
    "        'tag' : tag_ll\n",
    "    }\n",
    ")\n"
   ]
  },
  {
   "cell_type": "code",
   "execution_count": 54,
   "metadata": {},
   "outputs": [
    {
     "data": {
      "text/html": [
       "<div>\n",
       "<style scoped>\n",
       "    .dataframe tbody tr th:only-of-type {\n",
       "        vertical-align: middle;\n",
       "    }\n",
       "\n",
       "    .dataframe tbody tr th {\n",
       "        vertical-align: top;\n",
       "    }\n",
       "\n",
       "    .dataframe thead th {\n",
       "        text-align: right;\n",
       "    }\n",
       "</style>\n",
       "<table border=\"1\" class=\"dataframe\">\n",
       "  <thead>\n",
       "    <tr style=\"text-align: right;\">\n",
       "      <th></th>\n",
       "      <th>songID</th>\n",
       "      <th>tag</th>\n",
       "    </tr>\n",
       "  </thead>\n",
       "  <tbody>\n",
       "    <tr>\n",
       "      <th>24084</th>\n",
       "      <td>245872</td>\n",
       "      <td>[클럽 일렉트로닉, 클럽, 매장음악, ready for 서울재즈페스티벌 2019 s...</td>\n",
       "    </tr>\n",
       "    <tr>\n",
       "      <th>304507</th>\n",
       "      <td>672132</td>\n",
       "      <td>[알려졌으면 하는 인디 곡들(좋아요 100개↓), 어쿠스틱, 인디, 숨겨진, 지금 ...</td>\n",
       "    </tr>\n",
       "    <tr>\n",
       "      <th>510332</th>\n",
       "      <td>511327</td>\n",
       "      <td>[독보적인 음색 밤 분위기를 가진 여성보컬 R&amp;B, 감성, 밤, 알앤비, 여성보컬,...</td>\n",
       "    </tr>\n",
       "    <tr>\n",
       "      <th>5981</th>\n",
       "      <td>232355</td>\n",
       "      <td>[봄을 담은 설렘 가득한 달달한 음악, 인디, 기분전환이 필요할때 듣고 싶은 음악들...</td>\n",
       "    </tr>\n",
       "    <tr>\n",
       "      <th>476535</th>\n",
       "      <td>548777</td>\n",
       "      <td>[하하하하하, 봄캐롤, 드라이브]</td>\n",
       "    </tr>\n",
       "  </tbody>\n",
       "</table>\n",
       "</div>"
      ],
      "text/plain": [
       "        songID                                                tag\n",
       "24084   245872  [클럽 일렉트로닉, 클럽, 매장음악, ready for 서울재즈페스티벌 2019 s...\n",
       "304507  672132  [알려졌으면 하는 인디 곡들(좋아요 100개↓), 어쿠스틱, 인디, 숨겨진, 지금 ...\n",
       "510332  511327  [독보적인 음색 밤 분위기를 가진 여성보컬 R&B, 감성, 밤, 알앤비, 여성보컬,...\n",
       "5981    232355  [봄을 담은 설렘 가득한 달달한 음악, 인디, 기분전환이 필요할때 듣고 싶은 음악들...\n",
       "476535  548777                                 [하하하하하, 봄캐롤, 드라이브]"
      ]
     },
     "execution_count": 54,
     "metadata": {},
     "output_type": "execute_result"
    }
   ],
   "source": [
    "song2tag_df.sample(5)"
   ]
  },
  {
   "cell_type": "markdown",
   "metadata": {},
   "source": [
    "> # 장르와 세부장르 입히기"
   ]
  },
  {
   "cell_type": "code",
   "execution_count": 63,
   "metadata": {},
   "outputs": [
    {
     "name": "stderr",
     "output_type": "stream",
     "text": [
      "100%|██████████| 615142/615142 [00:03<00:00, 179017.91it/s]\n"
     ]
    }
   ],
   "source": [
    "# meta_dict[245872]\n",
    "song_gn_dtl_gnr_basket_ll = []\n",
    "issue_date_ll = []\n",
    "album_name_ll = []\n",
    "album_id_ll = []\n",
    "artist_id_basket_ll = []\n",
    "song_name_ll = []\n",
    "song_gn_gnr_basket_ll = []\n",
    "artist_name_basket_ll = []\n",
    "for song in tqdm(song_id_ll):\n",
    "    # print(song)\n",
    "    # print(meta_dict[song])\n",
    "    info = meta_dict[song]\n",
    "    song_gn_dtl_gnr_basket = info['song_gn_dtl_gnr_basket']\n",
    "    issue_date = info['issue_date']\n",
    "    album_name = info['album_name']\n",
    "    album_id = info['album_id']\n",
    "    artist_id_basket = info['artist_id_basket']\n",
    "    song_name = info['song_name']\n",
    "    song_gn_gnr_basket = info['song_gn_gnr_basket']\n",
    "    artist_name_basket = info['artist_name_basket']\n",
    "\n",
    "    song_gn_dtl_gnr_basket_ll.append(song_gn_dtl_gnr_basket)\n",
    "    issue_date_ll.append(issue_date)\n",
    "    album_name_ll.append(album_name)\n",
    "    album_id_ll.append(album_id)\n",
    "    artist_id_basket_ll.append(artist_id_basket)\n",
    "    song_name_ll.append(song_name)\n",
    "    song_gn_gnr_basket_ll.append(song_gn_gnr_basket)\n",
    "    artist_name_basket_ll.append(artist_name_basket)\n"
   ]
  },
  {
   "cell_type": "code",
   "execution_count": 64,
   "metadata": {},
   "outputs": [
    {
     "data": {
      "text/html": [
       "<div>\n",
       "<style scoped>\n",
       "    .dataframe tbody tr th:only-of-type {\n",
       "        vertical-align: middle;\n",
       "    }\n",
       "\n",
       "    .dataframe tbody tr th {\n",
       "        vertical-align: top;\n",
       "    }\n",
       "\n",
       "    .dataframe thead th {\n",
       "        text-align: right;\n",
       "    }\n",
       "</style>\n",
       "<table border=\"1\" class=\"dataframe\">\n",
       "  <thead>\n",
       "    <tr style=\"text-align: right;\">\n",
       "      <th></th>\n",
       "      <th>songID</th>\n",
       "      <th>tag</th>\n",
       "      <th>song_gn_dtl_gnr_basket</th>\n",
       "      <th>issue_date</th>\n",
       "      <th>album_name</th>\n",
       "      <th>album_id</th>\n",
       "      <th>artist_id_basket</th>\n",
       "      <th>song_name</th>\n",
       "      <th>song_gn_gnr_basket</th>\n",
       "      <th>artist_name_basket</th>\n",
       "    </tr>\n",
       "  </thead>\n",
       "  <tbody>\n",
       "    <tr>\n",
       "      <th>539170</th>\n",
       "      <td>9526</td>\n",
       "      <td>[잔잔한듯하지만 리듬타게 되는 국내 멜로우 힙합, 힙합, 잔잔한, 랩, 멜로우, H...</td>\n",
       "      <td>[GN0501, GN0304, GN0505, GN0301]</td>\n",
       "      <td>20170316</td>\n",
       "      <td>Exit</td>\n",
       "      <td>10046243</td>\n",
       "      <td>[1203540]</td>\n",
       "      <td>Exit (Underwater) (Prod. Hassan Malik)</td>\n",
       "      <td>[GN0500, GN0300]</td>\n",
       "      <td>[Vincent Laurent]</td>\n",
       "    </tr>\n",
       "    <tr>\n",
       "      <th>185173</th>\n",
       "      <td>349755</td>\n",
       "      <td>[마이매드팻다이어리, 락, haya 모던락&amp;브릿, 락, 모던락 롤 하면서 듣는, 기...</td>\n",
       "      <td>[GN1002, GN1013, GN1001]</td>\n",
       "      <td>20090630</td>\n",
       "      <td>Festival Generation - Night</td>\n",
       "      <td>598252</td>\n",
       "      <td>[104369]</td>\n",
       "      <td>Wonderwall</td>\n",
       "      <td>[GN1000]</td>\n",
       "      <td>[Oasis]</td>\n",
       "    </tr>\n",
       "    <tr>\n",
       "      <th>244401</th>\n",
       "      <td>151749</td>\n",
       "      <td>[카페에서 독서하기 좋은날♪, 힐링, 휴식, 설렘, 사랑]</td>\n",
       "      <td>[GN1912, GN1902, GN1901]</td>\n",
       "      <td>20060802</td>\n",
       "      <td>Yumekui (꿈을 먹는 벌레)</td>\n",
       "      <td>329710</td>\n",
       "      <td>[161289]</td>\n",
       "      <td>Tears</td>\n",
       "      <td>[GN1900]</td>\n",
       "      <td>[Otsuka Ai]</td>\n",
       "    </tr>\n",
       "    <tr>\n",
       "      <th>115800</th>\n",
       "      <td>536976</td>\n",
       "      <td>[운전할때 트는 음악(장르혼합), 드라이브, 운동, FAVORITE POPSONG!...</td>\n",
       "      <td>[GN0901]</td>\n",
       "      <td>20141117</td>\n",
       "      <td>Four</td>\n",
       "      <td>2291064</td>\n",
       "      <td>[581612]</td>\n",
       "      <td>Fool`s Gold</td>\n",
       "      <td>[GN0900]</td>\n",
       "      <td>[One Direction]</td>\n",
       "    </tr>\n",
       "    <tr>\n",
       "      <th>291973</th>\n",
       "      <td>238436</td>\n",
       "      <td>[&lt;국내&gt;내가 좋아하는 비트 메이커 20인 CHAPTER4-HIPHOP, 힙합, G...</td>\n",
       "      <td>[GN1501, GN0301, GN0302, GN1504]</td>\n",
       "      <td>20190830</td>\n",
       "      <td>BEEHIVE (Feat. The Quiett, ZENE THE ZILLA, Dbo...</td>\n",
       "      <td>10322560</td>\n",
       "      <td>[169115]</td>\n",
       "      <td>BEEHIVE (Feat. The Quiett, ZENE THE ZILLA, Dbo...</td>\n",
       "      <td>[GN1500, GN0300]</td>\n",
       "      <td>[진보]</td>\n",
       "    </tr>\n",
       "    <tr>\n",
       "      <th>391218</th>\n",
       "      <td>87914</td>\n",
       "      <td>[행복한 하루를 위한 피아노 모음, 행복, 힐링, 뉴에이지]</td>\n",
       "      <td>[GN1807, GN1801]</td>\n",
       "      <td>20150521</td>\n",
       "      <td>음악이 흐르는 나의 휴식 시간 (힐링 뉴에이지 피아노)</td>\n",
       "      <td>208895</td>\n",
       "      <td>[750485]</td>\n",
       "      <td>알람 소리</td>\n",
       "      <td>[GN1800]</td>\n",
       "      <td>[몽당연필]</td>\n",
       "    </tr>\n",
       "    <tr>\n",
       "      <th>539277</th>\n",
       "      <td>598406</td>\n",
       "      <td>[타임머신 타고 추억의 댄스 세계로, 90]</td>\n",
       "      <td>[GN0201]</td>\n",
       "      <td>20070906</td>\n",
       "      <td>With A Twist</td>\n",
       "      <td>357673</td>\n",
       "      <td>[194724]</td>\n",
       "      <td>부비 Party</td>\n",
       "      <td>[GN0200]</td>\n",
       "      <td>[바나나 보트]</td>\n",
       "    </tr>\n",
       "    <tr>\n",
       "      <th>115483</th>\n",
       "      <td>617016</td>\n",
       "      <td>[밤에 듣기편한 pop, 기분전환]</td>\n",
       "      <td>[GN1001]</td>\n",
       "      <td>20121205</td>\n",
       "      <td>The A To Z Of Rock</td>\n",
       "      <td>2169160</td>\n",
       "      <td>[101893]</td>\n",
       "      <td>The Final Countdown (Single Ver.)</td>\n",
       "      <td>[GN1000]</td>\n",
       "      <td>[Europe]</td>\n",
       "    </tr>\n",
       "    <tr>\n",
       "      <th>298869</th>\n",
       "      <td>188711</td>\n",
       "      <td>[달콤달콤, 카페에서 듣고 싶은 100곡의 달달한 팝 음악, 달달한, 유정선배에게 ...</td>\n",
       "      <td>[GN0901]</td>\n",
       "      <td>20151009</td>\n",
       "      <td>Acoustic Covers (어쿠스틱 커버: 어쿠스틱으로 듣는 리메이크 팝 히트곡)</td>\n",
       "      <td>2643959</td>\n",
       "      <td>[100566]</td>\n",
       "      <td>Don`t Dream It`s Over</td>\n",
       "      <td>[GN0900]</td>\n",
       "      <td>[Sixpence None The Richer]</td>\n",
       "    </tr>\n",
       "    <tr>\n",
       "      <th>404847</th>\n",
       "      <td>80125</td>\n",
       "      <td>[마음이 따듯해지는 크리스마스 Classical BGM, 겨울음악, 성가, 겨울노래...</td>\n",
       "      <td>[GN1601, GN1615, GN1613, GN1610]</td>\n",
       "      <td>20181018</td>\n",
       "      <td>GREAT SINGERS &amp; MUSICIANS IN COPENHAGEN 1931-1939</td>\n",
       "      <td>10212921</td>\n",
       "      <td>[2727]</td>\n",
       "      <td>Haydn : Die Schopfung Hob.XXI/2 Part.II - XXII...</td>\n",
       "      <td>[GN1600]</td>\n",
       "      <td>[Various Artists]</td>\n",
       "    </tr>\n",
       "  </tbody>\n",
       "</table>\n",
       "</div>"
      ],
      "text/plain": [
       "        songID                                                tag  \\\n",
       "539170    9526  [잔잔한듯하지만 리듬타게 되는 국내 멜로우 힙합, 힙합, 잔잔한, 랩, 멜로우, H...   \n",
       "185173  349755  [마이매드팻다이어리, 락, haya 모던락&브릿, 락, 모던락 롤 하면서 듣는, 기...   \n",
       "244401  151749                   [카페에서 독서하기 좋은날♪, 힐링, 휴식, 설렘, 사랑]   \n",
       "115800  536976  [운전할때 트는 음악(장르혼합), 드라이브, 운동, FAVORITE POPSONG!...   \n",
       "291973  238436  [<국내>내가 좋아하는 비트 메이커 20인 CHAPTER4-HIPHOP, 힙합, G...   \n",
       "391218   87914                  [행복한 하루를 위한 피아노 모음, 행복, 힐링, 뉴에이지]   \n",
       "539277  598406                           [타임머신 타고 추억의 댄스 세계로, 90]   \n",
       "115483  617016                                [밤에 듣기편한 pop, 기분전환]   \n",
       "298869  188711  [달콤달콤, 카페에서 듣고 싶은 100곡의 달달한 팝 음악, 달달한, 유정선배에게 ...   \n",
       "404847   80125  [마음이 따듯해지는 크리스마스 Classical BGM, 겨울음악, 성가, 겨울노래...   \n",
       "\n",
       "                  song_gn_dtl_gnr_basket issue_date  \\\n",
       "539170  [GN0501, GN0304, GN0505, GN0301]   20170316   \n",
       "185173          [GN1002, GN1013, GN1001]   20090630   \n",
       "244401          [GN1912, GN1902, GN1901]   20060802   \n",
       "115800                          [GN0901]   20141117   \n",
       "291973  [GN1501, GN0301, GN0302, GN1504]   20190830   \n",
       "391218                  [GN1807, GN1801]   20150521   \n",
       "539277                          [GN0201]   20070906   \n",
       "115483                          [GN1001]   20121205   \n",
       "298869                          [GN0901]   20151009   \n",
       "404847  [GN1601, GN1615, GN1613, GN1610]   20181018   \n",
       "\n",
       "                                               album_name  album_id  \\\n",
       "539170                                               Exit  10046243   \n",
       "185173                        Festival Generation - Night    598252   \n",
       "244401                                 Yumekui (꿈을 먹는 벌레)    329710   \n",
       "115800                                               Four   2291064   \n",
       "291973  BEEHIVE (Feat. The Quiett, ZENE THE ZILLA, Dbo...  10322560   \n",
       "391218                     음악이 흐르는 나의 휴식 시간 (힐링 뉴에이지 피아노)    208895   \n",
       "539277                                       With A Twist    357673   \n",
       "115483                                 The A To Z Of Rock   2169160   \n",
       "298869    Acoustic Covers (어쿠스틱 커버: 어쿠스틱으로 듣는 리메이크 팝 히트곡)   2643959   \n",
       "404847  GREAT SINGERS & MUSICIANS IN COPENHAGEN 1931-1939  10212921   \n",
       "\n",
       "       artist_id_basket                                          song_name  \\\n",
       "539170        [1203540]             Exit (Underwater) (Prod. Hassan Malik)   \n",
       "185173         [104369]                                         Wonderwall   \n",
       "244401         [161289]                                              Tears   \n",
       "115800         [581612]                                        Fool`s Gold   \n",
       "291973         [169115]  BEEHIVE (Feat. The Quiett, ZENE THE ZILLA, Dbo...   \n",
       "391218         [750485]                                              알람 소리   \n",
       "539277         [194724]                                           부비 Party   \n",
       "115483         [101893]                  The Final Countdown (Single Ver.)   \n",
       "298869         [100566]                              Don`t Dream It`s Over   \n",
       "404847           [2727]  Haydn : Die Schopfung Hob.XXI/2 Part.II - XXII...   \n",
       "\n",
       "       song_gn_gnr_basket          artist_name_basket  \n",
       "539170   [GN0500, GN0300]           [Vincent Laurent]  \n",
       "185173           [GN1000]                     [Oasis]  \n",
       "244401           [GN1900]                 [Otsuka Ai]  \n",
       "115800           [GN0900]             [One Direction]  \n",
       "291973   [GN1500, GN0300]                        [진보]  \n",
       "391218           [GN1800]                      [몽당연필]  \n",
       "539277           [GN0200]                    [바나나 보트]  \n",
       "115483           [GN1000]                    [Europe]  \n",
       "298869           [GN0900]  [Sixpence None The Richer]  \n",
       "404847           [GN1600]           [Various Artists]  "
      ]
     },
     "execution_count": 64,
     "metadata": {},
     "output_type": "execute_result"
    }
   ],
   "source": [
    "song2tag_df['song_gn_dtl_gnr_basket'] = song_gn_dtl_gnr_basket_ll\n",
    "song2tag_df['issue_date'] = issue_date_ll\n",
    "song2tag_df['album_name'] = album_name_ll\n",
    "song2tag_df['album_id'] = album_id_ll\n",
    "song2tag_df['artist_id_basket'] = artist_id_basket_ll\n",
    "song2tag_df['song_name'] = song_name_ll\n",
    "song2tag_df['song_gn_gnr_basket'] = song_gn_gnr_basket_ll\n",
    "song2tag_df['artist_name_basket'] = artist_name_basket_ll\n",
    "\n",
    "song2tag_df.sample(10)"
   ]
  },
  {
   "cell_type": "markdown",
   "metadata": {},
   "source": [
    "> # csv로 빼기"
   ]
  },
  {
   "cell_type": "code",
   "execution_count": 65,
   "metadata": {},
   "outputs": [],
   "source": [
    "song2tag_df.to_csv('song2tag_df.csv')"
   ]
  },
  {
   "cell_type": "code",
   "execution_count": null,
   "metadata": {},
   "outputs": [],
   "source": []
  }
 ],
 "metadata": {
  "interpreter": {
   "hash": "d4d1e4263499bec80672ea0156c357c1ee493ec2b1c70f0acce89fc37c4a6abe"
  },
  "kernelspec": {
   "display_name": "Python 3.8.5 ('base')",
   "language": "python",
   "name": "python3"
  },
  "language_info": {
   "codemirror_mode": {
    "name": "ipython",
    "version": 3
   },
   "file_extension": ".py",
   "mimetype": "text/x-python",
   "name": "python",
   "nbconvert_exporter": "python",
   "pygments_lexer": "ipython3",
   "version": "3.8.5"
  },
  "orig_nbformat": 4
 },
 "nbformat": 4,
 "nbformat_minor": 2
}
